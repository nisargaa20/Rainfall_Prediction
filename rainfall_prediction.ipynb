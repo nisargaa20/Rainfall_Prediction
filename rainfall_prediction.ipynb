{
 "cells": [
  {
   "cell_type": "code",
   "execution_count": null,
   "id": "6266db0e-bcfb-4da3-9397-1045cf85e875",
   "metadata": {},
   "outputs": [],
   "source": [
    "import pandas as pd\n",
    "import numpy as np\n",
    "import matplotlib.pyplot as plt\n",
    "from sklearn import preprocessing \n",
    "from sklearn.model_selection import train_test_split\n",
    "from sklearn.metrics import confusion_matrix \n",
    "from sklearn.preprocessing import StandardScaler \n",
    "from sklearn.metrics import accuracy_score \n",
    "from sklearn.preprocessing import OneHotEncoder"
   ]
  },
  {
   "cell_type": "code",
   "execution_count": null,
   "id": "14b6ad61-08e5-4f48-a89c-5420674ac591",
   "metadata": {},
   "outputs": [],
   "source": [
    "dataset = pd.read_csv(\"C:\\\\Users\\\\nisar\\\\Desktop\\\\ML dataset\\\\monthly_data.csv\")\n",
    "\n",
    "dataset.head()"
   ]
  },
  {
   "cell_type": "code",
   "execution_count": null,
   "id": "6fd5db83-0b54-4b7d-96ca-47b82866b80b",
   "metadata": {},
   "outputs": [],
   "source": [
    "# input \n",
    "x= dataset.iloc[:, [0, 7]].values \n",
    "\n",
    "# output \n",
    "y= dataset.iloc[:, 8].values"
   ]
  },
  {
   "cell_type": "code",
   "execution_count": null,
   "id": "25c492ca-796e-4448-8e82-3a5ae433c494",
   "metadata": {},
   "outputs": [],
   "source": [
    "print(x)"
   ]
  },
  {
   "cell_type": "code",
   "execution_count": null,
   "id": "5e2a824b-cc8e-4a14-a262-81385265c22d",
   "metadata": {},
   "outputs": [],
   "source": [
    "\n",
    "print(y)"
   ]
  },
  {
   "cell_type": "code",
   "execution_count": null,
   "id": "bab13202-95b3-4869-82a7-6c5d2b455e2b",
   "metadata": {},
   "outputs": [],
   "source": [
    "# Given dataset\n",
    "monthly_dataset = np.array([2.5, 13, 108, 112, 90, 113, 171, 74, 18])\n",
    "\n",
    "# Create a figure with a specified size\n",
    "figure = plt.figure(figsize=(10, 8))\n",
    "\n",
    "# Create a boxplot for the provided dataset\n",
    "plt.boxplot(monthly_dataset)\n",
    "\n",
    "# Set labels for each attribute\n",
    "plt.xticks([1], ['Average Rainfall'])\n",
    "\n",
    "# Display the boxplot\n"
   ]
  },
  {
   "cell_type": "code",
   "execution_count": null,
   "id": "3fda072b-4d66-4e81-956b-1dd55e16964a",
   "metadata": {},
   "outputs": [],
   "source": [
    "# Given dataset\n",
    "monthly_dataset = np.array([10,10,35,120,240,320,300,230,310,420,210,60])\n",
    "\n",
    "# Create a figure with a specified size\n",
    "figure = plt.figure(figsize=(10, 8))\n",
    "\n",
    "# Create a boxplot for the provided dataset\n",
    "plt.boxplot(monthly_dataset)\n",
    "\n",
    "# Set labels for each attribute\n",
    "plt.xticks([1], ['Highest Rainfall (mm)'])\n",
    "\n",
    "# Display the boxplot"
   ]
  },
  {
   "cell_type": "code",
   "execution_count": null,
   "id": "ab5da6c2-b98f-47b1-bf1e-2eb182369500",
   "metadata": {},
   "outputs": [],
   "source": [
    "# Given dataset\n",
    "monthly_dataset = np.array([33.4, 34.4, 37.2, 39.4, 38.4, 37.2, 36.4, 37.2, 36.4, 34.2, 33.8])\n",
    "\n",
    "# Create a figure with a specified size\n",
    "figure = plt.figure(figsize=(10, 8))\n",
    "\n",
    "# Create a boxplot for the provided dataset\n",
    "plt.boxplot(monthly_dataset)\n",
    "\n",
    "# Set labels for each attribute\n",
    "plt.xticks([1], ['Highest Temperature'])\n",
    "\n",
    "# Display the boxplot\n",
    "plt.show()"
   ]
  },
  {
   "cell_type": "code",
   "execution_count": null,
   "id": "629df0a1-b6c5-4691-a0df-889d5902b151",
   "metadata": {},
   "outputs": [],
   "source": [
    "# Given dataset\n",
    "monthly_dataset = np.array([24.8,26.3,29.2,32.4,33.2,32.4,31.2,30.4,31.2,30.4,28.2,25.8])\n",
    "\n",
    "# Create a figure with a specified size\n",
    "figure = plt.figure(figsize=(10, 8))\n",
    "\n",
    "# Create a boxplot for the provided dataset\n",
    "plt.boxplot(monthly_dataset)\n",
    "\n",
    "# Set labels for each attribute\n",
    "plt.xticks([1], ['Average Temperature (°C)'])\n",
    "\n",
    "# Display the boxplot\n",
    "plt.show()"
   ]
  },
  {
   "cell_type": "code",
   "execution_count": null,
   "id": "63e87c8d-d7e9-46a7-80a5-8de1f142847f",
   "metadata": {},
   "outputs": [],
   "source": [
    "# Given dataset\n",
    "monthly_dataset = np.array([16.2, 18.2, 21.2, 25.4, 27.2, 26.4, 25.2, 24.4, 25.2, 24.4, 22.2, 17.8])\n",
    "\n",
    "# Create a figure with a specified size\n",
    "figure = plt.figure(figsize=(10, 8))\n",
    "\n",
    "# Create a boxplot for the provided dataset\n",
    "plt.boxplot(monthly_dataset)\n",
    "\n",
    "# Set labels for each attribute\n",
    "plt.xticks([1], ['Lowest Temperature (°C)'])\n",
    "\n",
    "# Set the title of the boxplot\n",
    "plt.title('Boxplot of Lowest Temperature (°C)')\n",
    "\n",
    "# Set labels for the axes\n",
    "plt.xlabel('Attribute')\n",
    "plt.ylabel('Temperature (°C)')\n",
    "\n",
    "# Display the boxplot\n",
    "plt.show()\n"
   ]
  },
  {
   "cell_type": "code",
   "execution_count": null,
   "id": "e1f8f506-8c5c-4648-a11a-2bcc61db3c34",
   "metadata": {},
   "outputs": [],
   "source": [
    "from scipy.stats import zscore\n",
    "\n",
    "df = pd.read_csv('Monthly_dataset.csv')\n",
    "\n",
    "print(df.info())\n",
    "\n",
    "print(\"Missing values per column:\")\n",
    "print(df.isnull().sum())\n",
    "\n",
    "\n",
    "z_scores = np.abs(zscore(df.select_dtypes(include=np.number)))\n",
    "outliers = (z_scores > 3).all(axis=1)\n",
    "\n",
    "print(\"Number of outliers detected:\", outliers.sum())\n",
    "\n",
    "numeric_cols = df.select_dtypes(include=np.number).columns\n",
    "df[numeric_cols] = df[numeric_cols].fillna(df[numeric_cols].mean())\n",
    "\n",
    "\n",
    "df[outliers] = np.nan\n",
    "\n",
    "\n",
    "print(\"Missing values after remediation:\")\n",
    "print(df.isnull().sum())\n",
    "\n",
    "\n",
    "df.to_csv('cleaned_dataset.csv', index=False)\n"
   ]
  },
  {
   "cell_type": "code",
   "execution_count": null,
   "id": "cb949c8f-24ad-4193-8b49-9766203fea96",
   "metadata": {},
   "outputs": [],
   "source": [
    "data = pd.read_csv(\"monthly_dataset.csv\",  nrows=100)\n",
    "data.info()"
   ]
  },
  {
   "cell_type": "code",
   "execution_count": null,
   "id": "8449b4ff-4a8d-45f9-8d17-c1caefa014de",
   "metadata": {},
   "outputs": [],
   "source": [
    "dataset[1:10]"
   ]
  },
  {
   "cell_type": "code",
   "execution_count": null,
   "id": "72db31d5-3329-42f0-be67-11ea2157c473",
   "metadata": {},
   "outputs": [],
   "source": [
    "bool_series=pd.notnull(dataset[\"Averagerainfall \"])\n",
    "dataset[bool_series]"
   ]
  },
  {
   "cell_type": "code",
   "execution_count": null,
   "id": "0c117deb-18e7-4f6f-9801-01d728287746",
   "metadata": {},
   "outputs": [],
   "source": [
    "# Print the list of columns in your dataset\n",
    "print(dataset.columns)\n"
   ]
  },
  {
   "cell_type": "code",
   "execution_count": null,
   "id": "fc020372-2a6c-459a-adae-71ebc9943bfb",
   "metadata": {},
   "outputs": [],
   "source": [
    "bool_series=pd.isnull(dataset[\"Averagerainfall \"])\n",
    "dataset[bool_series]"
   ]
  },
  {
   "cell_type": "code",
   "execution_count": null,
   "id": "8122bf39-3224-46eb-8e1f-819334d94e92",
   "metadata": {},
   "outputs": [],
   "source": [
    "new_data=dataset.dropna(axis=0,how='any')\n",
    "new_data"
   ]
  },
  {
   "cell_type": "code",
   "execution_count": null,
   "id": "932064da-2071-47cf-85de-24ca09a3fae5",
   "metadata": {},
   "outputs": [],
   "source": [
    "dataset.replace(to_replace=np.nan,value=-99)"
   ]
  },
  {
   "cell_type": "code",
   "execution_count": null,
   "id": "8e994163-bc5b-4096-a2bd-3512abfc3902",
   "metadata": {},
   "outputs": [],
   "source": [
    "dataset[\"Averagerainfall \"].fillna(\"No Averagerainfall\",inplace=True)\n",
    "dataset"
   ]
  },
  {
   "cell_type": "code",
   "execution_count": null,
   "id": "20636e99-9db5-4cec-94b9-d6869d759a96",
   "metadata": {},
   "outputs": [],
   "source": [
    "new_df1=dataset.fillna(method=\"ffill\")\n",
    "new_df1"
   ]
  },
  {
   "cell_type": "code",
   "execution_count": null,
   "id": "d8bb082d-df9c-49f8-82f8-f4d11f235445",
   "metadata": {},
   "outputs": [],
   "source": [
    "new_df=dataset.fillna(method=\"bfill\")\n",
    "new_df"
   ]
  },
  {
   "cell_type": "code",
   "execution_count": null,
   "id": "76647fe0-1875-4a6b-9020-57a6db644bdb",
   "metadata": {},
   "outputs": [],
   "source": [
    "new_df3 = dataset.dropna(how='all')\n",
    "new_df3"
   ]
  },
  {
   "cell_type": "code",
   "execution_count": null,
   "id": "e79d324e-1b35-4ad0-81c2-7f6c7a95ca66",
   "metadata": {},
   "outputs": [],
   "source": [
    "print(\"Old data frame length:\", len(dataset))"
   ]
  },
  {
   "cell_type": "code",
   "execution_count": null,
   "id": "56e2f8f2-910e-40c9-b3a3-8fc0e5eb1e88",
   "metadata": {},
   "outputs": [],
   "source": [
    "print(\"New data frame length:\", len(dataset))"
   ]
  },
  {
   "cell_type": "code",
   "execution_count": null,
   "id": "4fa9b2fc-0f68-4bdd-b4ae-b27582fe6ca7",
   "metadata": {},
   "outputs": [],
   "source": [
    "print(\"Number of rows with at least 1 NA value:\", len(dataset)-len(new_data))"
   ]
  },
  {
   "cell_type": "code",
   "execution_count": null,
   "id": "6eb99008-705b-409c-87e3-830470a94f9b",
   "metadata": {},
   "outputs": [],
   "source": [
    "from sklearn.preprocessing import StandardScaler \n",
    "\n",
    "dataset = pd.read_csv('monthly_dataset.csv') \n",
    "dataset.head() \n",
    "\n",
    "#extracting values which we want to scale\n",
    "x = dataset.iloc[:, 1:4].values \n",
    "print (\"\\n ORIGIONAL VALUES: \\n\\n\", x) \n",
    "\n",
    "#MIN-MAX SCALER\n",
    "min_max_scaler = preprocessing.MinMaxScaler(feature_range =(0, 1)) \n",
    "new_x= min_max_scaler.fit_transform(x) \n",
    "print (\"\\n VALUES AFTER MIN MAX SCALING: \\n\\n\", new_x) \n",
    "\n",
    "Standardisation = preprocessing.StandardScaler() \n",
    "new_x= Standardisation.fit_transform(x) \n",
    "print (\"\\n\\n VALUES AFTER STANDARDIZATION : \\n\\n\", new_x) "
   ]
  },
  {
   "cell_type": "code",
   "execution_count": null,
   "id": "88216b86-6f0f-46da-beaa-a18f09df9918",
   "metadata": {},
   "outputs": [],
   "source": [
    "data['Month']=data['Month'].astype('category')"
   ]
  },
  {
   "cell_type": "code",
   "execution_count": null,
   "id": "51e3b425-6fac-4484-9526-01768d4dd30e",
   "metadata": {},
   "outputs": [],
   "source": [
    "data['Month_new']=data['Month'].cat.codes"
   ]
  },
  {
   "cell_type": "code",
   "execution_count": null,
   "id": "9d7d0ec6-63e6-4658-be85-cbea923fe876",
   "metadata": {},
   "outputs": [],
   "source": [
    "enc=OneHotEncoder()"
   ]
  },
  {
   "cell_type": "code",
   "execution_count": null,
   "id": "e524587c-7ad2-4bbd-83a2-61e590219613",
   "metadata": {},
   "outputs": [],
   "source": [
    "enc_data=pd.DataFrame(enc.fit_transform(data[['Month_new']]).toarray())\n",
    "enc_data"
   ]
  },
  {
   "cell_type": "code",
   "execution_count": null,
   "id": "8a442974-b01c-42de-9bcd-c59d4f86a9b7",
   "metadata": {},
   "outputs": [],
   "source": [
    "\n",
    "x_train,x_test,y_train,y_test=train_test_split(x,y,test_size=0.2)\n",
    "print(x_train)"
   ]
  },
  {
   "cell_type": "code",
   "execution_count": null,
   "id": "84b58707-70f6-4fb2-831a-8d7b1833db39",
   "metadata": {},
   "outputs": [],
   "source": [
    "print(x_test)"
   ]
  },
  {
   "cell_type": "code",
   "execution_count": null,
   "id": "c3d2081f-d660-4d9d-b6a4-5c6104c251db",
   "metadata": {},
   "outputs": [],
   "source": [
    "print(y_train,y_test)"
   ]
  },
  {
   "cell_type": "code",
   "execution_count": null,
   "id": "56b9a835-5834-426f-b781-7d6c7c9de5f3",
   "metadata": {},
   "outputs": [],
   "source": [
    "x_train,x_test,y_train,y_test=train_test_split(x,y,test_size=0.2,random_state=0)\n",
    "print(x_train)"
   ]
  },
  {
   "cell_type": "code",
   "execution_count": null,
   "id": "bc28f5d4-5bb8-4dd7-b201-fdace7cce5a3",
   "metadata": {},
   "outputs": [],
   "source": [
    "print(x_test)"
   ]
  },
  {
   "cell_type": "code",
   "execution_count": null,
   "id": "771fcf78-4d23-4841-8494-d2329b4548db",
   "metadata": {},
   "outputs": [],
   "source": [
    "print(y_train,y_test)"
   ]
  },
  {
   "cell_type": "code",
   "execution_count": null,
   "id": "b1b6967e-3233-4a44-a9cf-1a508480243c",
   "metadata": {},
   "outputs": [],
   "source": [
    "\n",
    "\n",
    "# Replace these with your actual and predicted labels\n",
    "x_true = [1, 0, 1, 0, 1, 0, 1, 1, 1, 1]\n",
    "y_pred = [1, 0, 0, 0, 1, 0, 0, 1, 0, 1]\n",
    "\n",
    "# Calculate confusion matrix\n",
    "conf_matrix = confusion_matrix(x_true, y_pred)\n",
    "\n",
    "# Display the confusion matrix\n",
    "print(\"Confusion Matrix:\")\n",
    "print(conf_matrix)\n",
    "\n",
    "tp = conf_matrix[1, 1]  # True Positive\n",
    "tn = conf_matrix[0, 0]  # True Negative\n",
    "fp = conf_matrix[0, 1]  # False Positive\n",
    "fn = conf_matrix[1, 0]  # False Negative\n",
    "\n",
    "# Print the results\n",
    "print(\"True Positive (TP):\", tp)\n",
    "print(\"True Negative (TN):\", tn)\n",
    "print(\"False Positive (FP):\", fp)\n",
    "print(\"False Negative (FN):\", fn)"
   ]
  },
  {
   "cell_type": "code",
   "execution_count": null,
   "id": "2fd2a58d-1357-4532-9f00-ac55df3b99de",
   "metadata": {},
   "outputs": [],
   "source": [
    "def compute_accuracy(x_true, y_pred):\n",
    "    correctly_predicted = 0\n",
    "\n",
    "    # iterating over every label and checking it with the true sample\n",
    "    for true_label, predicted in zip(x_true, y_pred):\n",
    "        if true_label == predicted:\n",
    "            correctly_predicted += 1\n",
    "\n",
    "    # computing the accuracy score\n",
    "    accuracy_score = correctly_predicted / len(x_true)\n",
    "\n",
    "    return accuracy_score\n",
    "\n",
    "# Example usage:\n",
    "x_true = [1, 0, 1, 0, 1, 0, 1, 1, 1, 1]\n",
    "y_pred = [1, 0, 0, 0, 1, 0, 0, 1, 0, 1]\n",
    "\n",
    "accuracy = compute_accuracy(x_true, y_pred)\n",
    "\n",
    "# Print items and accuracy\n",
    "\n",
    "print(\"Accuracy:\", accuracy)\n"
   ]
  },
  {
   "cell_type": "code",
   "execution_count": null,
   "id": "1d062ed6-b9df-496b-9fd0-34b6960a3204",
   "metadata": {},
   "outputs": [],
   "source": []
  },
  {
   "cell_type": "code",
   "execution_count": null,
   "id": "92f98a0e-9e87-4be7-82d2-72f09b97a6fd",
   "metadata": {},
   "outputs": [],
   "source": []
  },
  {
   "cell_type": "code",
   "execution_count": null,
   "id": "513170a0-f05c-4900-aed7-de420907bba5",
   "metadata": {},
   "outputs": [],
   "source": []
  },
  {
   "cell_type": "code",
   "execution_count": null,
   "id": "3e354e87-58ce-425a-91ed-8b7fbb018c15",
   "metadata": {},
   "outputs": [],
   "source": []
  },
  {
   "cell_type": "code",
   "execution_count": null,
   "id": "da9d3ac1-1e2d-459d-a181-3fff82d84f31",
   "metadata": {},
   "outputs": [],
   "source": []
  }
 ],
 "metadata": {
  "kernelspec": {
   "display_name": "Python 3 (ipykernel)",
   "language": "python",
   "name": "python3"
  },
  "language_info": {
   "codemirror_mode": {
    "name": "ipython",
    "version": 3
   },
   "file_extension": ".py",
   "mimetype": "text/x-python",
   "name": "python",
   "nbconvert_exporter": "python",
   "pygments_lexer": "ipython3",
   "version": "3.11.1"
  }
 },
 "nbformat": 4,
 "nbformat_minor": 5
}
